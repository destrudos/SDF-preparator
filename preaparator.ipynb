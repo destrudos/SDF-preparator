{
 "cells": [
  {
   "cell_type": "code",
   "execution_count": 131,
   "outputs": [
    {
     "name": "stdout",
     "output_type": "stream",
     "text": [
      "50\n",
      "59\n",
      "40\n"
     ]
    }
   ],
   "source": [
    "import re\n",
    "i = 0\n",
    "id = []\n",
    "OEChem = []\n",
    "positionals = []\n",
    "atoms_sequence = \"\"\n",
    "bonds_sequence = \"\"\n",
    "atoms_list = []\n",
    "bond_list = []\n",
    "with open(\"example-sdf.txt\") as file_in:\n",
    "    lines = []\n",
    "    for line in file_in:\n",
    "        lines.append(line)\n",
    "        i = i + 1\n",
    "        if i==1:\n",
    "            id.append(line[:-1])\n",
    "\n",
    "        if i==2:\n",
    "            OEChem.append(line[:-1])\n",
    "        if line == \"$$$$\\n\" or line == \"$$$$\":\n",
    "            i=0\n",
    "            atoms_sequence = \"\"\n",
    "            bonds_sequence = \"\"\n",
    "\n",
    "        if i==4:\n",
    "            positionals.append(line[:-1])\n",
    "            atoms = line.split()\n",
    "            atoms_number = int(atoms[0])\n",
    "            bonds_number = int(atoms[1])\n",
    "            atomy = 5+atoms_number\n",
    "            wiazania = atomy + bonds_number\n",
    "            print(atoms_number)\n",
    "        if (i >= 5) and (i < (atomy)):\n",
    "            atoms_sequence = atoms_sequence+line[:-1]\n",
    "        if i == (atomy):\n",
    "            atoms_list.append(atoms_sequence)\n",
    "        if (i >= atomy) and (i < wiazania):\n",
    "            bonds_sequence = bonds_sequence+line[:-1]\n",
    "        if i == (wiazania):\n",
    "            bond_list.append(bonds_sequence)\n",
    "\n",
    "w=3\n",
    "\n",
    "\n",
    "\n",
    "\n",
    "\n",
    "\n",
    "\n",
    "\n"
   ],
   "metadata": {
    "collapsed": false,
    "pycharm": {
     "name": "#%%\n"
    }
   }
  },
  {
   "cell_type": "code",
   "execution_count": 126,
   "outputs": [
    {
     "data": {
      "text/plain": "(45, 89)"
     },
     "execution_count": 126,
     "metadata": {},
     "output_type": "execute_result"
    }
   ],
   "source": [
    "atomy, wiazania"
   ],
   "metadata": {
    "collapsed": false,
    "pycharm": {
     "name": "#%%\n"
    }
   }
  },
  {
   "cell_type": "code",
   "execution_count": 123,
   "outputs": [
    {
     "data": {
      "text/plain": "(['  -OEChem-07302111372D',\n  '  -OEChem-07302111372D',\n  '  -OEChem-07302111372D'],\n [' 50 52  0     1   0999 V2000',\n  ' 59 60  0      0  0999 V2000',\n  ' 40 44  0      0  0999 V2000'])"
     },
     "execution_count": 123,
     "metadata": {},
     "output_type": "execute_result"
    }
   ],
   "source": [
    "OEChem, positionals"
   ],
   "metadata": {
    "collapsed": false,
    "pycharm": {
     "name": "#%%\n"
    }
   }
  },
  {
   "cell_type": "code",
   "execution_count": 133,
   "outputs": [
    {
     "data": {
      "text/plain": "[' Cl   O    O    O    O    O    O    O    N    N    N    C   0  0  3    C    C    C    C    C    C    C    C    C    C    C    C    C    C    C    C    C    C    C    C    H    H    H    H    H    H    H    H    H    H    H    H    H    H    H    H    H    H   ',\n ' O    O    O    O    N    N    C    C    C    C    C    C    C    C    C    C    C    C    C    C    C    C    C    C    C    C    C    C    C    C    C    H    H    H    H    H    H    H    H    H    H    H    H    H    H    H    H    H    H    H    H    H    H    H    H    H    H    H    H   ',\n ' O    N    N    N    C    C    C    C    C    C    C    C    C    C    C    C    C    C    C    C    C    C    C    C    C    H    H    H    H    H    H    H    H    H    H    H    H    H    H    H   ']"
     },
     "execution_count": 133,
     "metadata": {},
     "output_type": "execute_result"
    }
   ],
   "source": [
    "atoms_list"
   ],
   "metadata": {
    "collapsed": false,
    "pycharm": {
     "name": "#%%\n"
    }
   }
  },
  {
   "cell_type": "code",
   "execution_count": 134,
   "outputs": [
    {
     "data": {
      "text/plain": "['  1 26  1   2 14  2   3 15  2   4 23  1   4 31  1   5 24  1   5 32  1   6 22  2   7 23  2   8 24  2   9 14  1   9 15  1   9 16  1  10 11  1  10 12  1  10 36  1  11 22  1  11 39  1  12 13  1  12 14  1  12 33  1  13 15  1  13 34  1  13 35  1  16 17  2  16 18  1  17 19  1  17 37  1  18 20  2  18 38  1  19 21  2  19 24  1  20 21  1  20 23  1  21 40  1  22 25  1  25 26  2  25 27  1  26 28  1  27 29  2  27 41  1  28 30  2  28 42  1  29 30  1  29 43  1  30 44  1  31 45  1  31 46  1  31 47  1  32 48  1  32 49  1  32 50  1 ',\n '  1 13  1   1 17  1   2 14  1   2 18  1   3 21  1   3 29  1   4 29  2   5 30  3   6 31  3   7  8  1   7 11  1   7 32  1   7 33  1   8 13  1   8 34  1   8 35  1   9 10  1   9 12  1   9 36  1   9 37  1  10 14  1  10 38  1  10 39  1  11 15  1  11 40  1  11 41  1  12 16  1  12 42  1  12 43  1  13 44  1  13 45  1  14 46  1  14 47  1  15 48  1  15 49  1  15 50  1  16 51  1  16 52  1  16 53  1  17 19  2  17 20  1  18 23  2  18 24  1  19 22  1  19 30  1  20 26  2  20 54  1  21 22  2  21 26  1  22 31  1  23 27  1  23 55  1  24 28  2  24 56  1  25 27  2  25 28  1  25 29  1  26 57  1  27 58  1  28 59  1 ',\n '  1 10  2   2  7  1   2 10  1   2 11  1   3  7  2   3 14  1   4 12  1   4 23  1   4 32  1   5  6  2   5  8  1   5  9  1   6  7  1   6 13  1   8 10  1   8 15  2   9 12  2   9 17  1  11 14  1  11 19  2  12 16  1  13 16  2  13 26  1  14 20  2  15 18  1  15 27  1  16 28  1  17 18  2  17 29  1  18 30  1  19 21  1  19 31  1  20 22  1  20 33  1  21 22  2  21 34  1  22 35  1  23 24  1  23 36  1  23 37  1  24 25  2  24 38  1  25 39  1  25 40  1 ']"
     },
     "execution_count": 134,
     "metadata": {},
     "output_type": "execute_result"
    }
   ],
   "source": [
    "bond_list"
   ],
   "metadata": {
    "collapsed": false,
    "pycharm": {
     "name": "#%%\n"
    }
   }
  },
  {
   "cell_type": "code",
   "execution_count": null,
   "outputs": [],
   "source": [],
   "metadata": {
    "collapsed": false,
    "pycharm": {
     "name": "#%%\n"
    }
   }
  }
 ],
 "metadata": {
  "kernelspec": {
   "display_name": "Python 3",
   "language": "python",
   "name": "python3"
  },
  "language_info": {
   "codemirror_mode": {
    "name": "ipython",
    "version": 2
   },
   "file_extension": ".py",
   "mimetype": "text/x-python",
   "name": "python",
   "nbconvert_exporter": "python",
   "pygments_lexer": "ipython2",
   "version": "2.7.6"
  }
 },
 "nbformat": 4,
 "nbformat_minor": 0
}